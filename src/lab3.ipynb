{
 "cells": [
  {
   "cell_type": "code",
   "execution_count": 1,
   "metadata": {},
   "outputs": [],
   "source": [
    "import numpy as np\n",
    "import seaborn as sns\n",
    "import matplotlib.pyplot as plt\n",
    "import os\n",
    "import random"
   ]
  },
  {
   "cell_type": "code",
   "execution_count": 2,
   "metadata": {},
   "outputs": [
    {
     "data": {
      "text/plain": [
       "'c:\\\\Users\\\\Linyi Zhang\\\\Desktop\\\\data_mining\\\\HW3\\\\Datamining_HW3\\\\data\\\\web-Stanford.txt\\\\web-Stanford.txt'"
      ]
     },
     "execution_count": 2,
     "metadata": {},
     "output_type": "execute_result"
    }
   ],
   "source": [
    "path = os.path.dirname(os.getcwd())\n",
    "data_path = os.path.join(path, 'data','web-Stanford.txt', 'web-Stanford.txt')\n",
    "data_path"
   ]
  },
  {
   "cell_type": "code",
   "execution_count": 3,
   "metadata": {},
   "outputs": [],
   "source": [
    "def reservoir_sampling(filename, sample_size):\n",
    "    reservoir = []\n",
    "    with open(filename, 'r') as file:\n",
    "        # Skip the header lines\n",
    "        for _ in range(4):\n",
    "            next(file)\n",
    "        \n",
    "        line_number = 0\n",
    "        for line in file:\n",
    "            line_number += 1\n",
    "            if line.strip():  # Check if the line is not empty\n",
    "                if len(reservoir) < sample_size:\n",
    "                    reservoir.append(line.strip())\n",
    "                else:\n",
    "                    # Generate a random index from 0 to line_number (inclusive)\n",
    "                    random_index = random.randint(0, line_number)\n",
    "                    if random_index < sample_size:\n",
    "                        reservoir[random_index] = line.strip()\n",
    "    \n",
    "    return reservoir\n",
    "\n"
   ]
  },
  {
   "cell_type": "code",
   "execution_count": 4,
   "metadata": {},
   "outputs": [
    {
     "name": "stdout",
     "output_type": "stream",
     "text": [
      "Sampled edges:\n",
      "17036\t11495\n",
      "216321\t234704\n",
      "183982\t83427\n",
      "195161\t119221\n",
      "15845\t170347\n",
      "124610\t267421\n",
      "249778\t69358\n",
      "153046\t100340\n",
      "21361\t232570\n",
      "144087\t160065\n"
     ]
    }
   ],
   "source": [
    "filename = data_path\n",
    "sample_size = 10  # Set your desired sample size here\n",
    "sample = reservoir_sampling(filename, sample_size)\n",
    "\n",
    "# Print the sampled edges\n",
    "print(\"Sampled edges:\")\n",
    "for edge in sample:\n",
    "    print(edge)\n"
   ]
  }
 ],
 "metadata": {
  "kernelspec": {
   "display_name": "Python 3",
   "language": "python",
   "name": "python3"
  },
  "language_info": {
   "codemirror_mode": {
    "name": "ipython",
    "version": 3
   },
   "file_extension": ".py",
   "mimetype": "text/x-python",
   "name": "python",
   "nbconvert_exporter": "python",
   "pygments_lexer": "ipython3",
   "version": "3.10.7"
  }
 },
 "nbformat": 4,
 "nbformat_minor": 2
}
