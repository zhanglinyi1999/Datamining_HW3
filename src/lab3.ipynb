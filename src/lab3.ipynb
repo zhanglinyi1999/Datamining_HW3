{
 "cells": [
  {
   "cell_type": "code",
   "execution_count": 50,
   "metadata": {},
   "outputs": [],
   "source": [
    "import numpy as np\n",
    "import seaborn as sns\n",
    "import matplotlib.pyplot as plt\n",
    "import os\n",
    "import random\n",
    "import tqdm"
   ]
  },
  {
   "cell_type": "code",
   "execution_count": 51,
   "metadata": {},
   "outputs": [
    {
     "data": {
      "text/plain": [
       "'d:\\\\Study\\\\KTH\\\\DM\\\\assignment\\\\Datamining_HW3\\\\data\\\\web-Stanford.txt\\\\web-Stanford.txt'"
      ]
     },
     "execution_count": 51,
     "metadata": {},
     "output_type": "execute_result"
    }
   ],
   "source": [
    "path = os.path.dirname(os.getcwd())\n",
    "data_path = os.path.join(path, 'data','web-Stanford.txt', 'web-Stanford.txt')\n",
    "data_path"
   ]
  },
  {
   "cell_type": "code",
   "execution_count": 52,
   "metadata": {},
   "outputs": [],
   "source": [
    "class edge_reservoir:\n",
    "    def __init__(self,s_e):\n",
    "        self.length=s_e\n",
    "        self.mem=[set() for _ in range(self.length)]\n",
    "    \n",
    "    def add(self,edge,t,i):\n",
    "        if random.random()<=1/t:\n",
    "            self.mem[i]=edge\n",
    "            return True\n",
    "        return False\n",
    "    "
   ]
  },
  {
   "cell_type": "code",
   "execution_count": 53,
   "metadata": {},
   "outputs": [],
   "source": [
    "class wedge_reservoir:\n",
    "    def __init__(self,s_w):\n",
    "        self.length=s_w\n",
    "        self.mem=[[frozenset(),frozenset()] for _ in range(self.length)]\n",
    "        self.isClosed=[False for _ in range(self.length)]\n",
    "    "
   ]
  },
  {
   "cell_type": "code",
   "execution_count": 54,
   "metadata": {},
   "outputs": [],
   "source": [
    "def check_close(wedge:[frozenset,frozenset],edge:set):\n",
    "\n",
    "    same=wedge[0]|wedge[1]\n",
    "    return same!=None and (wedge[0]-set(same)).issubset(edge) and (wedge[1]-set(same)).issubset(edge)"
   ]
  },
  {
   "cell_type": "code",
   "execution_count": 55,
   "metadata": {},
   "outputs": [],
   "source": [
    "tot_wedge=0"
   ]
  },
  {
   "cell_type": "code",
   "execution_count": 56,
   "metadata": {},
   "outputs": [],
   "source": [
    "def update(edge,t,edge_res:edge_reservoir,wedge_res:wedge_reservoir):\n",
    "    global tot_wedge\n",
    "    for i in range(wedge_res.length):\n",
    "        if check_close(wedge_res.mem[i],edge):\n",
    "            wedge_res.isClosed[i]=True\n",
    "    flag=False\n",
    "    for i in range(min(edge_res.length,t)):\n",
    "        if edge_res.add(edge,t,i):\n",
    "            flag=True\n",
    "    if flag:\n",
    "        N_t=[]\n",
    "        for ed in edge_res.mem:\n",
    "            # print(ed,edge)\n",
    "            if len(ed|edge)==1:\n",
    "                tot_wedge+=1\n",
    "                N_t.append([frozenset(ed),frozenset(edge)])\n",
    "        for i in range(wedge_res.length):\n",
    "            x=random.random()\n",
    "            if x<=len(N_t)/(tot_wedge+1e-8):\n",
    "                w=random.choice(N_t)\n",
    "                wedge_res.mem[i]=w\n",
    "                wedge_res.isClosed[i]=False\n",
    "    "
   ]
  },
  {
   "cell_type": "code",
   "execution_count": 57,
   "metadata": {},
   "outputs": [],
   "source": [
    "def Streaming_triangles(filename,s_e,s_w):\n",
    "    global tot_wedge\n",
    "    edge_res=edge_reservoir(s_e)\n",
    "    wedge_res=wedge_reservoir(s_w)\n",
    "    T_t=[]\n",
    "    with open(filename, 'r') as file:\n",
    "        # Skip the header lines\n",
    "        for _ in range(4):\n",
    "            next(file)\n",
    "        line_num=0\n",
    "        \n",
    "        for line in tqdm.tqdm(file):           \n",
    "            if line.strip():\n",
    "                line_num+=1\n",
    "                edges=line.strip().split()\n",
    "                edge={int(edges[0]),int(edges[1])}\n",
    "                update(edge,line_num,edge_res,wedge_res)\n",
    "                rol=sum(wedge_res.isClosed)/len(wedge_res.isClosed)\n",
    "                T_t.append(rol*line_num**2/(s_e*(s_e-1))*tot_wedge)\n",
    "                if tot_wedge!=0:\n",
    "                    print(tot_wedge)\n",
    "    plt.plot(T_t)\n",
    "\n",
    "\n"
   ]
  },
  {
   "cell_type": "code",
   "execution_count": 58,
   "metadata": {},
   "outputs": [],
   "source": [
    "# Streaming_triangles(data_path,1000,1000)"
   ]
  },
  {
   "cell_type": "code",
   "execution_count": 59,
   "metadata": {},
   "outputs": [],
   "source": [
    "def reservoir_sampling(filename, sample_size):\n",
    "    reservoir = []\n",
    "    with open(filename, 'r') as file:\n",
    "        # Skip the header lines\n",
    "        for _ in range(4):\n",
    "            next(file)\n",
    "        \n",
    "        line_number = 0\n",
    "        for line in file:\n",
    "            line_number += 1\n",
    "            if line.strip():  # Check if the line is not empty\n",
    "                if len(reservoir) < sample_size:\n",
    "                    reservoir.append(line.strip())\n",
    "                else:\n",
    "                    # Generate a random index from 0 to line_number (inclusive)\n",
    "                    random_index = random.randint(0, line_number)\n",
    "                    if random_index < sample_size:\n",
    "                        reservoir[random_index] = line.strip()\n",
    "    \n",
    "    return reservoir\n",
    "\n"
   ]
  },
  {
   "cell_type": "code",
   "execution_count": 60,
   "metadata": {},
   "outputs": [
    {
     "name": "stdout",
     "output_type": "stream",
     "text": [
      "Sampled edges:\n",
      "220176\t226412\n",
      "136567\t104804\n",
      "231329\t192230\n",
      "33492\t231405\n",
      "153382\t63856\n",
      "80072\t117864\n",
      "254648\t55788\n",
      "261742\t34573\n",
      "279782\t76891\n",
      "107927\t33539\n"
     ]
    }
   ],
   "source": [
    "filename = data_path\n",
    "sample_size = 10  # Set your desired sample size here\n",
    "sample = reservoir_sampling(filename, sample_size)\n",
    "\n",
    "# Print the sampled edges\n",
    "print(\"Sampled edges:\")\n",
    "for edge in sample:\n",
    "    print(edge)\n"
   ]
  },
  {
   "cell_type": "code",
   "execution_count": 61,
   "metadata": {},
   "outputs": [],
   "source": [
    "from collections import defaultdict\n"
   ]
  },
  {
   "cell_type": "code",
   "execution_count": 72,
   "metadata": {},
   "outputs": [],
   "source": [
    "class Triest_base:\n",
    "    def __init__(self,M):\n",
    "        self.length=M\n",
    "        self.sample=[]\n",
    "        self.t=-1\n",
    "        self.tau=0\n",
    "        self.tauV=defaultdict(int)\n",
    "        self.neighbours=defaultdict(set)\n",
    "    \n",
    "    def insert(self,filename):\n",
    "        with open(filename, 'r') as file:\n",
    "        # Skip the header lines\n",
    "            for _ in range(4):\n",
    "                next(file)\n",
    "            \n",
    "            for line in tqdm.tqdm(file):\n",
    "                if line.strip():\n",
    "                    self.t+=1\n",
    "                    edges=line.strip().split()\n",
    "                    edge=frozenset({int(edges[0]),int(edges[1])})\n",
    "                    if self.sample_edge(edge,self.t):\n",
    "                        self.sample.append(edge)\n",
    "                        self.UpdateCounter(list(edge),\"+\")\n",
    "\n",
    "                    \n",
    "    \n",
    "    def sample_edge(self,edge:set,t):\n",
    "        if self.t<=self.length:\n",
    "            return True\n",
    "        elif random.random()<=self.length/t:\n",
    "            edge=random.choice(self.sample)\n",
    "            self.sample.remove(edge)\n",
    "            self.UpdateCounter(list(edge),\"-\")\n",
    "            return True\n",
    "        return False\n",
    "    \n",
    "    def UpdateCounter(self,edge,opeartion):\n",
    "        u=edge[0]\n",
    "        v=edge[1]\n",
    "        if opeartion==\"+\":\n",
    "            self.neighbours[u].add(v)\n",
    "            self.neighbours[v].add(u)\n",
    "            intersection=self.neighbours[u]|self.neighbours[v]\n",
    "            for c in intersection:\n",
    "                self.tau+=1\n",
    "                self.tauV[c]+=1\n",
    "                self.tauV[u]+=1\n",
    "                self.tauV[v]+=1\n",
    "        else:\n",
    "            self.neighbours[u].discard(v)\n",
    "            self.neighbours[v].discard(u)\n",
    "            intersection=self.neighbours[u]|self.neighbours[v]\n",
    "            for c in intersection:\n",
    "                self.tau-=1\n",
    "                self.tauV[c]-=1\n",
    "                self.tauV[u]-=1\n",
    "                self.tauV[v]-=1 \n",
    "\n"
   ]
  },
  {
   "cell_type": "code",
   "execution_count": 73,
   "metadata": {},
   "outputs": [
    {
     "name": "stderr",
     "output_type": "stream",
     "text": [
      "2312497it [00:03, 593812.60it/s]?it/s]\n",
      "2312497it [00:04, 567081.70it/s]37,  4.19s/it]\n",
      "2312497it [00:03, 602666.96it/s]33,  4.13s/it]\n",
      "2312497it [00:03, 604704.94it/s]27,  4.00s/it]\n",
      "2312497it [00:03, 606606.21it/s]23,  3.93s/it]\n",
      "2312497it [00:03, 588823.49it/s]19,  3.89s/it]\n",
      "2312497it [00:03, 606874.24it/s]15,  3.90s/it]\n",
      "2312497it [00:03, 613550.57it/s]11,  3.87s/it]\n",
      "2312497it [00:03, 606379.46it/s]07,  3.84s/it]\n",
      "2312497it [00:03, 610493.26it/s]03,  3.84s/it]\n",
      "100%|██████████| 10/10 [00:38<00:00,  3.89s/it]\n",
      "2312497it [00:04, 530816.19it/s]?it/s]\n",
      "2312497it [00:04, 521764.57it/s]39,  4.36s/it]\n",
      "2312497it [00:04, 516826.66it/s]35,  4.41s/it]\n",
      "2312497it [00:04, 525354.16it/s]31,  4.44s/it]\n",
      "2312497it [00:04, 518876.09it/s]26,  4.43s/it]\n",
      "2312497it [00:04, 522896.47it/s]22,  4.44s/it]\n",
      "2312497it [00:05, 461375.99it/s]17,  4.44s/it]\n",
      "2312497it [00:05, 423462.89it/s]13,  4.63s/it]\n",
      "2312497it [00:05, 451659.31it/s]09,  4.89s/it]\n",
      "2312497it [00:04, 468730.22it/s]04,  4.97s/it]\n",
      "100%|██████████| 10/10 [00:47<00:00,  4.71s/it]\n",
      "2312497it [00:08, 270973.85it/s]?it/s]\n",
      "2312497it [00:08, 287904.79it/s]16,  8.54s/it]\n",
      "2312497it [00:07, 302548.65it/s]05,  8.24s/it]\n",
      "2312497it [00:07, 296820.54it/s]55,  7.97s/it]\n",
      "2312497it [00:07, 294634.43it/s]47,  7.91s/it]\n",
      "2312497it [00:07, 291099.48it/s]39,  7.89s/it]\n",
      "2312497it [00:07, 296897.81it/s]31,  7.91s/it]\n",
      "2312497it [00:07, 296502.25it/s]23,  7.87s/it]\n",
      "2312497it [00:07, 304088.79it/s]15,  7.85s/it]\n",
      "2312497it [00:07, 301888.86it/s]07,  7.78s/it]\n",
      "100%|██████████| 10/10 [01:18<00:00,  7.87s/it]\n",
      "2312497it [00:18, 125958.22it/s]?it/s]\n",
      "2312497it [00:19, 119021.63it/s]45, 18.36s/it]\n",
      "2312497it [00:18, 124291.61it/s]31, 19.00s/it]\n",
      "2312497it [00:18, 124449.05it/s]11, 18.82s/it]\n",
      "2312497it [00:18, 123845.10it/s]52, 18.73s/it]\n",
      "2312497it [00:18, 122955.80it/s]33, 18.71s/it]\n",
      "2312497it [00:18, 126246.99it/s]14, 18.75s/it]\n",
      "2312497it [00:18, 125116.81it/s]55, 18.61s/it]\n",
      "2312497it [00:18, 124511.04it/s]37, 18.57s/it]\n",
      "2312497it [00:18, 122678.71it/s]18, 18.58s/it]\n",
      "100%|██████████| 10/10 [03:06<00:00, 18.68s/it]\n"
     ]
    },
    {
     "data": {
      "image/png": "[encoded data removed]",
      "text/plain": [
       "<Figure size 640x480 with 1 Axes>"
      ]
     },
     "metadata": {},
     "output_type": "display_data"
    }
   ],
   "source": [
    "Ms=[1000,2000,5000,10000]\n",
    "X=[[1000]*10,[2000]*10,[5000]*10,[10000]*10]\n",
    "Y=[]\n",
    "for M in Ms:\n",
    "    for _ in tqdm.tqdm(range(10)):\n",
    "        algor=Triest_base(M=M)\n",
    "        algor.insert(data_path)\n",
    "        Y.append(algor.tau)\n",
    "plt.scatter(X,Y)\n",
    "plt.xlabel(\"Resororvior max sample\")\n",
    "plt.ylabel(\"Prediction of number of Triangle\")\n",
    "plt.show()\n"
   ]
  },
  {
   "cell_type": "code",
   "execution_count": 70,
   "metadata": {},
   "outputs": [],
   "source": [
    "class TRIEST_IMPR:\n",
    "    def __init__(self,M):\n",
    "        self.length=M\n",
    "        self.sample=list()\n",
    "        self.t=-1\n",
    "        self.tau=0\n",
    "        self.tauV=defaultdict(int)\n",
    "        self.neighbours=defaultdict(set)\n",
    "    \n",
    "    def insert(self,filename):\n",
    "        triangles=[]\n",
    "        with open(filename, 'r') as file:\n",
    "        # Skip the header lines\n",
    "            for _ in range(4):\n",
    "                next(file)\n",
    "            \n",
    "            for line in tqdm.tqdm(file):\n",
    "                if line.strip():\n",
    "                    self.t+=1\n",
    "                    edges=line.strip().split()\n",
    "                    edge=frozenset({int(edges[0]),int(edges[1])})\n",
    "                    self.UpdateCounter(list(edge))\n",
    "                    if self.sample_edge(edge,self.t):\n",
    "                        self.sample.append(edge)\n",
    "                        \n",
    "                    triangles.append(self.tau)\n",
    "        plt.plot(triangles)\n",
    "        plt.show()\n",
    "                    \n",
    "    \n",
    "    def sample_edge(self,edge:set,t):\n",
    "        if self.t<=self.length:\n",
    "            return True\n",
    "        elif random.random()<=self.length/t:\n",
    "            edge=random.choice(self.sample)\n",
    "            self.sample.remove(edge)\n",
    "            return True\n",
    "        return False\n",
    "    \n",
    "    def UpdateCounter(self,edge):\n",
    "        u=edge[0]\n",
    "        v=edge[1]\n",
    "        self.neighbours[u].add(v)\n",
    "        self.neighbours[v].add(u)\n",
    "        intersection=self.neighbours[u]|self.neighbours[v]\n",
    "        eta=max(1,(self.t-1)*(self.t-2)/(self.length*(self.length-1)))\n",
    "        for c in intersection:\n",
    "            self.tau+=eta\n",
    "            self.tauV[c]+=eta\n",
    "            self.tauV[u]+=eta\n",
    "            self.tauV[v]+=eta\n"
   ]
  },
  {
   "cell_type": "code",
   "execution_count": 71,
   "metadata": {},
   "outputs": [
    {
     "name": "stderr",
     "output_type": "stream",
     "text": [
      "2312497it [48:58, 786.90it/s] \n"
     ]
    },
    {
     "data": {
      "image/png": "[encoded data removed]",
      "text/plain": [
       "<Figure size 640x480 with 1 Axes>"
      ]
     },
     "metadata": {},
     "output_type": "display_data"
    }
   ],
   "source": [
    "algor=TRIEST_IMPR(M=1000)\n",
    "algor.insert(data_path)"
   ]
  }
 ],
 "metadata": {
  "kernelspec": {
   "display_name": "Python 3",
   "language": "python",
   "name": "python3"
  },
  "language_info": {
   "codemirror_mode": {
    "name": "ipython",
    "version": 3
   },
   "file_extension": ".py",
   "mimetype": "text/x-python",
   "name": "python",
   "nbconvert_exporter": "python",
   "pygments_lexer": "ipython3",
   "version": "3.9.0"
  }
 },
 "nbformat": 4,
 "nbformat_minor": 2
}
