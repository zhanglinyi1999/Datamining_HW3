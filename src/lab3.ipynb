{
 "cells": [
  {
   "cell_type": "markdown",
   "metadata": {},
   "source": [
    "Lab3: Mining Data Streams"
   ]
  },
  {
   "cell_type": "markdown",
   "metadata": {},
   "source": [
    "# How to Run\n",
    "\n",
    "\n",
    "\n",
    "1. Ensure to have Python 3 and several libraries such as NumPy installed on your machine.\n",
    "1. Press \"run all\"."
   ]
  },
  {
   "cell_type": "code",
   "execution_count": 1,
   "metadata": {},
   "outputs": [],
   "source": [
    "import numpy as np\n",
    "import seaborn as sns\n",
    "import matplotlib.pyplot as plt\n",
    "import os\n",
    "import random\n",
    "import tqdm"
   ]
  },
  {
   "cell_type": "code",
   "execution_count": 2,
   "metadata": {},
   "outputs": [
    {
     "data": {
      "text/plain": [
       "'c:\\\\Users\\\\Linyi Zhang\\\\Desktop\\\\data_mining\\\\HW3\\\\Datamining_HW3\\\\data\\\\facebook_combined.txt\\\\facebook_combined.txt'"
      ]
     },
     "execution_count": 2,
     "metadata": {},
     "output_type": "execute_result"
    }
   ],
   "source": [
    "path = os.path.dirname(os.getcwd())\n",
    "# data_path = os.path.join(path, 'data','web-Stanford.txt', 'web-Stanford.txt')\n",
    "# data_path = os.path.join(path, 'data','web-NotreDame.txt', 'web-NotreDame.txt')\n",
    "data_path = os.path.join(path, 'data','facebook_combined.txt', 'facebook_combined.txt')\n",
    "data_path"
   ]
  },
  {
   "cell_type": "markdown",
   "metadata": {},
   "source": [
    "web-NotreDame.txt\n",
    "\n",
    "Nodes\t325729\n",
    "\n",
    "Edges\t1497134\n",
    "\n",
    "Number of triangles\t8910005\n",
    "\n",
    "\n",
    "\n",
    "Social circles: Facebook\n",
    "\n",
    "Nodes\t4039\n",
    "Edges\t88234\n",
    "\n",
    "Number of triangles\t1612010\n"
   ]
  },
  {
   "cell_type": "code",
   "execution_count": 3,
   "metadata": {},
   "outputs": [],
   "source": [
    "from collections import defaultdict\n",
    "from scipy.stats import bernoulli\n",
    "from functools import reduce\n",
    "\n"
   ]
  },
  {
   "cell_type": "code",
   "execution_count": 4,
   "metadata": {},
   "outputs": [],
   "source": [
    "class Triest_base:\n",
    "    def __init__(self,M):\n",
    "        \"\"\"\n",
    "        This function initializes the class and sets all counters to zero. Additionally, it initializes the memory size to M.\n",
    "             \n",
    "        :param length: the size of the memory for the algorithm\n",
    "        :param sample: record all the edges in the memory\n",
    "        :param t: the number of edges processed so far\n",
    "        :param tau: the number of triangles found so far\n",
    "        :param tauV: the number of triangles that node v is involved in\n",
    "        :param neighbours: the neighbours of each node\n",
    "       \n",
    "        \"\"\"\n",
    "        assert M>=6\n",
    "        self.length=M\n",
    "        self.sample: set[frozenset[int]] = set()\n",
    "        self.t=0\n",
    "        self.tau=0\n",
    "        self.tauV=defaultdict(int)\n",
    "        self.neighbours=defaultdict(set)\n",
    "    \n",
    "    def insert(self,filename):\n",
    "\n",
    "        \"\"\"\n",
    "        This function reads the graph from the file and inserts the edges one by one. It returns the number of triangles found so far.\n",
    "\n",
    "        :param filename: the path of the file that contains the graph\n",
    "        :param edges: the edges of the graph\n",
    "        :return: the number of triangles found so far\n",
    "        \"\"\"\n",
    "\n",
    "        with open(filename, 'r') as file:\n",
    "\n",
    "            \n",
    "            for line in file:\n",
    "                \n",
    "                self.t+=1\n",
    "                edges=line.split()\n",
    "                if edges[0]==edges[1]:\n",
    "                    continue\n",
    "                edge=frozenset({int(edges[0]),int(edges[1])})\n",
    "                if self.sample_edge(edge):\n",
    "                    self.sample.add(edge)\n",
    "                    self.UpdateCounter(list(edge),\"+\")\n",
    "        return self.tau * max(1.0 , self.t*(self.t-1)*(self.t-2)/(self.length*(self.length-1)*(self.length-2)))\n",
    "\n",
    "                    \n",
    "    \n",
    "    def sample_edge(self,edge:set):\n",
    "        if self.t<=self.length:\n",
    "            return True\n",
    "        elif  bernoulli.rvs(p=self.length / self.t):\n",
    "            edge=random.choice(list(self.sample))\n",
    "            self.sample.remove(edge)\n",
    "            self.UpdateCounter(list(edge),\"-\")\n",
    "            return True\n",
    "        return False\n",
    "    \n",
    "    def UpdateCounter(self,edge,opeartion):\n",
    "        u=edge[0]\n",
    "        v=edge[1]\n",
    "       \n",
    "   \n",
    "        if opeartion==\"+\":\n",
    "            self.neighbours[u].add(v)\n",
    "            self.neighbours[v].add(u)\n",
    "            intersection=self.neighbours[u]&self.neighbours[v]\n",
    "\n",
    "          \n",
    "            for c in intersection:\n",
    "                self.tau+=1\n",
    "                self.tauV[c]+=1\n",
    "                self.tauV[u]+=1\n",
    "                self.tauV[v]+=1\n",
    "\n",
    "            \n",
    "        elif opeartion==\"-\":\n",
    "            self.neighbours[u].discard(v)\n",
    "            self.neighbours[v].discard(u)\n",
    "            if len(self.neighbours[u])==0:\n",
    "                del self.neighbours[u]\n",
    "                return\n",
    "            if len(self.neighbours[v])==0:\n",
    "                del self.neighbours[v]\n",
    "                return\n",
    "            intersection=self.neighbours[u]&self.neighbours[v]\n",
    "\n",
    "\n",
    "            for c in intersection:\n",
    "                self.tau-=1\n",
    "                self.tauV[c]-=1\n",
    "                self.tauV[u]-=1\n",
    "                self.tauV[v]-=1\n",
    "                \n"
   ]
  },
  {
   "cell_type": "code",
   "execution_count": 5,
   "metadata": {},
   "outputs": [
    {
     "name": "stdout",
     "output_type": "stream",
     "text": [
      "[1000, 1000, 1000, 1000, 1000, 1000, 1000, 1000, 1000, 1000, 2000, 2000, 2000, 2000, 2000, 2000, 2000, 2000, 2000, 2000, 5000, 5000, 5000, 5000, 5000, 5000, 5000, 5000, 5000, 5000, 10000, 10000, 10000, 10000, 10000, 10000, 10000, 10000, 10000, 10000]\n"
     ]
    },
    {
     "name": "stderr",
     "output_type": "stream",
     "text": [
      "  0%|          | 0/10 [00:00<?, ?it/s]"
     ]
    },
    {
     "name": "stderr",
     "output_type": "stream",
     "text": [
      "100%|██████████| 10/10 [00:15<00:00,  1.58s/it]\n",
      "100%|██████████| 10/10 [00:17<00:00,  1.74s/it]\n",
      "100%|██████████| 10/10 [00:34<00:00,  3.41s/it]\n",
      "100%|██████████| 10/10 [01:13<00:00,  7.32s/it]\n"
     ]
    },
    {
     "data": {
      "image/png": "[encoded data removed]",
      "text/plain": [
       "<Figure size 640x480 with 1 Axes>"
      ]
     },
     "metadata": {},
     "output_type": "display_data"
    }
   ],
   "source": [
    "Ms=[1000,2000,5000,10000]\n",
    "test=10\n",
    "X=[i for i in Ms for _ in range(test)]\n",
    "print(X)\n",
    "Y=[]\n",
    "for M in Ms:\n",
    "    for _ in tqdm.tqdm(range(test)):\n",
    "        algor=Triest_base(M=M)\n",
    "        \n",
    "        Y.append(algor.insert(data_path))\n",
    "plt.scatter(X,Y)\n",
    "plt.xlabel(\"Resororvior max sample\")\n",
    "plt.ylabel(\"Prediction of number of Triangle\")\n",
    "plt.plot([Ms[0], Ms[-1]], [1612010, 1612010])\n",
    "plt.show()\n"
   ]
  },
  {
   "cell_type": "code",
   "execution_count": 9,
   "metadata": {},
   "outputs": [],
   "source": [
    "class TRIEST_IMPR:\n",
    "    def __init__(self,M):\n",
    "        self.length=M\n",
    "        self.sample=list()\n",
    "        self.t=-1\n",
    "        self.tau=0\n",
    "        self.tauV=defaultdict(int)\n",
    "        self.neighbours=defaultdict(set)\n",
    "    \n",
    "    def insert(self,filename):\n",
    "        with open(filename, 'r') as file:\n",
    "  \n",
    "            \n",
    "            for line in file:\n",
    "                if line.strip():\n",
    "                    self.t+=1\n",
    "                    edges=line.strip().split()\n",
    "                    edge=frozenset({int(edges[0]),int(edges[1])})\n",
    "                    self.UpdateCounter(list(edge))\n",
    "                    if self.sample_edge(edge,self.t):\n",
    "                        self.sample.append(edge)\n",
    "                    \n",
    "    \n",
    "    def sample_edge(self,edge:set,t):\n",
    "        if self.t<=self.length:\n",
    "            return True\n",
    "        elif random.random()<=self.length/t:\n",
    "            edge=random.choice(self.sample)\n",
    "            self.sample.remove(edge)\n",
    "            return True\n",
    "        return False\n",
    "    \n",
    "    def UpdateCounter(self,edge):\n",
    "        u=edge[0]\n",
    "        v=edge[1]\n",
    "        intersection: set[int] = reduce(\n",
    "            lambda a, b: a & b,\n",
    "            [\n",
    "                {\n",
    "                    node\n",
    "                    for link in self.sample if vertex in link\n",
    "                    for node in link if node != vertex\n",
    "                }\n",
    "                for vertex in edge\n",
    "            ]\n",
    "        )\n",
    "    \n",
    "        # self.neighbours[u].add(v)\n",
    "        # self.neighbours[v].add(u)\n",
    "        # intersection=self.neighbours[u]&self.neighbours[v]\n",
    "        eta=max(1,(self.t-1)*(self.t-2)/(self.length*(self.length-1)))\n",
    "        for c in intersection:\n",
    "            self.tau+=eta\n",
    "            self.tauV[c]+=eta\n",
    "            self.tauV[u]+=eta\n",
    "            self.tauV[v]+=eta\n"
   ]
  },
  {
   "cell_type": "code",
   "execution_count": 10,
   "metadata": {},
   "outputs": [
    {
     "name": "stdout",
     "output_type": "stream",
     "text": [
      "[1000, 1000, 1000, 1000, 1000, 1000, 1000, 1000, 1000, 1000, 2000, 2000, 2000, 2000, 2000, 2000, 2000, 2000, 2000, 2000, 5000, 5000, 5000, 5000, 5000, 5000, 5000, 5000, 5000, 5000, 10000, 10000, 10000, 10000, 10000, 10000, 10000, 10000, 10000, 10000]\n"
     ]
    },
    {
     "name": "stderr",
     "output_type": "stream",
     "text": [
      "100%|██████████| 10/10 [00:33<00:00,  3.40s/it]\n",
      "100%|██████████| 10/10 [01:08<00:00,  6.86s/it]\n",
      "100%|██████████| 10/10 [03:18<00:00, 19.87s/it]\n",
      "100%|██████████| 10/10 [07:49<00:00, 46.91s/it]\n"
     ]
    },
    {
     "data": {
      "image/png": "[encoded data removed]",
      "text/plain": [
       "<Figure size 640x480 with 1 Axes>"
      ]
     },
     "metadata": {},
     "output_type": "display_data"
    }
   ],
   "source": [
    "\n",
    "Ms=[1000,2000,5000,10000]\n",
    "test=10\n",
    "X=[i for i in Ms for _ in range(test)]\n",
    "print(X)\n",
    "Y=[]\n",
    "for M in Ms:\n",
    "    for _ in tqdm.tqdm(range(10)):\n",
    "        algor=TRIEST_IMPR(M=M)\n",
    "        algor.insert(data_path)\n",
    "        Y.append(algor.tau)\n",
    "plt.scatter(X,Y)\n",
    "plt.xlabel(\"Resororvior max sample\")\n",
    "plt.ylabel(\"Prediction of number of Triangle\")\n",
    "plt.plot([Ms[0], Ms[-1]], [1612010, 1612010])\n",
    "plt.show()"
   ]
  },
  {
   "cell_type": "markdown",
   "metadata": {},
   "source": [
    "# Questions\n",
    "\n",
    "1.*What were the challenges you have faced when implementing the algorithm?*\n",
    "\n",
    "Implementing the algorithm posed challenges primarily in selecting the most appropriate data structures, despite the algorithm being well-documented and accompanied by pseudocode. \n",
    "\n",
    "2.*Can the algorithm be easily parallelized? If yes, how? If not, why? Explain.*\n",
    "\n",
    "Parallelizing the algorithm isn't straightforward due to its inherent design for stream processing with blocking operations on counters reliant on the current state of the sample set, which dynamically changes. \n",
    "\n",
    "3.*Does the algorithm work for unbounded graph streams? Explain.*\n",
    "\n",
    "The algorithm is designed to function on unbounded data streams, providing real-time estimations of the triangle count. Its reliance on the current triangles counter, sample set size, and observed samples in the stream facilitates its continuous operation without needing the entire stream at once.\n",
    "\n",
    "4.*Does the algorithm support edge deletions? If not, what modification would it need? Explain.*\n",
    "\n",
    "Although TRIÈST-BASE and TRIÈST-IMPR do not support edge deletions, the same paper where they are presented describes TRIÈST-FD, a fully dynamic version. TRIÈST-FD builds upon the concept of Random Pairing (RP) by keeping track of the number of edges deleted from the sample set due to deletion in the stream and the overall number of deletions. This information then drives the insertion of a new edge in the sample set and the formula for the estimation of the number of triangles."
   ]
  }
 ],
 "metadata": {
  "kernelspec": {
   "display_name": "Python 3",
   "language": "python",
   "name": "python3"
  },
  "language_info": {
   "codemirror_mode": {
    "name": "ipython",
    "version": 3
   },
   "file_extension": ".py",
   "mimetype": "text/x-python",
   "name": "python",
   "nbconvert_exporter": "python",
   "pygments_lexer": "ipython3",
   "version": "3.10.7"
  }
 },
 "nbformat": 4,
 "nbformat_minor": 2
}
