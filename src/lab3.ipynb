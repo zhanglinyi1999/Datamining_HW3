{
 "cells": [
  {
   "cell_type": "code",
   "execution_count": 91,
   "metadata": {},
   "outputs": [],
   "source": [
    "import numpy as np\n",
    "import seaborn as sns\n",
    "import matplotlib.pyplot as plt\n",
    "import os\n",
    "import random\n",
    "import tqdm"
   ]
  },
  {
   "cell_type": "code",
   "execution_count": 92,
   "metadata": {},
   "outputs": [],
   "source": [
    "path = os.path.dirname(os.getcwd())\n",
    "data_path = os.path.join(path, 'data','web-Stanford.txt', 'web-Stanford.txt')\n",
    "data_path"
   ]
  },
  {
   "cell_type": "code",
   "execution_count": 93,
   "metadata": {},
   "outputs": [],
   "source": [
    "class edge_reservoir:\n",
    "    def __init__(self,s_e):\n",
    "        self.length=s_e\n",
    "        self.mem=[set() for _ in range(self.length)]\n",
    "    \n",
    "    def add(self,edge,t,i):\n",
    "        if random.random()<=1/t:\n",
    "            self.mem[i]=edge\n",
    "            return True\n",
    "        return False\n",
    "    "
   ]
  },
  {
   "cell_type": "code",
   "execution_count": 94,
   "metadata": {},
   "outputs": [],
   "source": [
    "class wedge_reservoir:\n",
    "    def __init__(self,s_w):\n",
    "        self.length=s_w\n",
    "        self.mem=[[frozenset(),frozenset()] for _ in range(self.length)]\n",
    "        self.isClosed=[False for _ in range(self.length)]\n",
    "    "
   ]
  },
  {
   "cell_type": "code",
   "execution_count": 95,
   "metadata": {},
   "outputs": [],
   "source": [
    "def check_close(wedge:[frozenset,frozenset],edge:set):\n",
    "\n",
    "    same=wedge[0]|wedge[1]\n",
    "    return same!=None and (wedge[0]-set(same)).issubset(edge) and (wedge[1]-set(same)).issubset(edge)"
   ]
  },
  {
   "cell_type": "code",
   "execution_count": 96,
   "metadata": {},
   "outputs": [],
   "source": [
    "tot_wedge=0"
   ]
  },
  {
   "cell_type": "code",
   "execution_count": 97,
   "metadata": {},
   "outputs": [],
   "source": [
    "def update(edge,t,edge_res:edge_reservoir,wedge_res:wedge_reservoir):\n",
    "    global tot_wedge\n",
    "    for i in range(wedge_res.length):\n",
    "        if check_close(wedge_res.mem[i],edge):\n",
    "            wedge_res.isClosed[i]=True\n",
    "    flag=False\n",
    "    for i in range(min(edge_res.length,t)):\n",
    "        if edge_res.add(edge,t,i):\n",
    "            flag=True\n",
    "    if flag:\n",
    "        N_t=[]\n",
    "        for ed in edge_res.mem:\n",
    "            # print(ed,edge)\n",
    "            if len(ed|edge)==1:\n",
    "                tot_wedge+=1\n",
    "                N_t.append([frozenset(ed),frozenset(edge)])\n",
    "        for i in range(wedge_res.length):\n",
    "            x=np.random.rand()\n",
    "            if x<=len(N_t)/(tot_wedge+1e-8):\n",
    "                w=random.choice(N_t)\n",
    "                wedge_res.mem[i]=w\n",
    "                wedge_res.isClosed[i]=False\n",
    "    "
   ]
  },
  {
   "cell_type": "code",
   "execution_count": 98,
   "metadata": {},
   "outputs": [],
   "source": [
    "def Streaming_triangles(filename,s_e,s_w):\n",
    "    global tot_wedge\n",
    "    edge_res=edge_reservoir(s_e)\n",
    "    wedge_res=wedge_reservoir(s_w)\n",
    "    T_t=[]\n",
    "    with open(filename, 'r') as file:\n",
    "        # Skip the header lines\n",
    "        for _ in range(4):\n",
    "            next(file)\n",
    "        line_num=0\n",
    "        \n",
    "        for line in tqdm.tqdm(file):           \n",
    "            if line.strip():\n",
    "                line_num+=1\n",
    "                edges=line.strip().split()\n",
    "                edge={int(edges[0]),int(edges[1])}\n",
    "                update(edge,line_num,edge_res,wedge_res)\n",
    "                rol=sum(wedge_res.isClosed)/len(wedge_res.isClosed)\n",
    "                T_t.append(rol*line_num**2/(s_e*(s_e-1))*tot_wedge)\n",
    "                if tot_wedge!=0:\n",
    "                    print(tot_wedge)\n",
    "    plt.plot(T_t)\n",
    "\n",
    "\n"
   ]
  },
  {
   "cell_type": "code",
   "execution_count": 99,
   "metadata": {},
   "outputs": [],
   "source": [
    "# Streaming_triangles(data_path,1000,1000)"
   ]
  },
  {
   "cell_type": "code",
   "execution_count": 100,
   "metadata": {},
   "outputs": [],
   "source": [
    "def reservoir_sampling(filename, sample_size):\n",
    "    reservoir = []\n",
    "    with open(filename, 'r') as file:\n",
    "        # Skip the header lines\n",
    "        for _ in range(4):\n",
    "            next(file)\n",
    "        \n",
    "        line_number = 0\n",
    "        for line in file:\n",
    "            line_number += 1\n",
    "            if line.strip():  # Check if the line is not empty\n",
    "                if len(reservoir) < sample_size:\n",
    "                    reservoir.append(line.strip())\n",
    "                else:\n",
    "                    # Generate a random index from 0 to line_number (inclusive)\n",
    "                    random_index = random.randint(0, line_number)\n",
    "                    if random_index < sample_size:\n",
    "                        reservoir[random_index] = line.strip()\n",
    "    \n",
    "    return reservoir\n",
    "\n"
   ]
  },
  {
   "cell_type": "code",
   "execution_count": 101,
   "metadata": {},
   "outputs": [
    {
     "name": "stdout",
     "output_type": "stream",
     "text": [
      "Sampled edges:\n",
      "123931\t20634\n",
      "77361\t214128\n",
      "40125\t46540\n",
      "38763\t95363\n",
      "223461\t227439\n",
      "39299\t153049\n",
      "230533\t265127\n",
      "30254\t167295\n",
      "139935\t17567\n",
      "81761\t92605\n"
     ]
    }
   ],
   "source": [
    "filename = data_path\n",
    "sample_size = 10  # Set your desired sample size here\n",
    "sample = reservoir_sampling(filename, sample_size)\n",
    "\n",
    "# Print the sampled edges\n",
    "print(\"Sampled edges:\")\n",
    "for edge in sample:\n",
    "    print(edge)\n"
   ]
  },
  {
   "cell_type": "code",
   "execution_count": 102,
   "metadata": {},
   "outputs": [],
   "source": [
    "from collections import defaultdict\n"
   ]
  },
  {
   "cell_type": "code",
   "execution_count": 132,
   "metadata": {},
   "outputs": [],
   "source": [
    "class Triest_base:\n",
    "    def __init__(self,M):\n",
    "        assert M>=6\n",
    "        self.length=M\n",
    "        self.sample=[]\n",
    "        self.t=0\n",
    "        self.tau=0\n",
    "        self.tauV=defaultdict(int)\n",
    "        self.neighbours=defaultdict(set)\n",
    "    \n",
    "    def insert(self,filename):\n",
    "        with open(filename, 'r') as file:\n",
    "        # Skip the header lines\n",
    "            for _ in range(4):\n",
    "                next(file)\n",
    "            \n",
    "            for line in file:\n",
    "                # if line.strip():\n",
    "                    self.t+=1\n",
    "                    edges=line.split()\n",
    "                    edge=frozenset({int(edges[0]),int(edges[1])})\n",
    "                    if self.sample_edge(edge):\n",
    "                        self.sample.append(edge)\n",
    "                        self.UpdateCounter(list(edge),\"+\")\n",
    "        return self.tau*max(1,self.t*(self.t-1)*(self.t-2)/(self.length*(self.length-1)*(self.length-2)))\n",
    "\n",
    "                    \n",
    "    \n",
    "    def sample_edge(self,edge:set):\n",
    "        if self.t<=self.length:\n",
    "            return True\n",
    "        elif random.random()<=self.length/self.t:\n",
    "            edge=random.choice(self.sample)\n",
    "            self.sample.remove(edge)\n",
    "            self.UpdateCounter(list(edge),\"-\")\n",
    "            return True\n",
    "        return False\n",
    "    \n",
    "    def UpdateCounter(self,edge,opeartion):\n",
    "        u=edge[0]\n",
    "        v=edge[1]\n",
    "        if opeartion==\"+\":\n",
    "            self.neighbours[u].add(v)\n",
    "            self.neighbours[v].add(u)\n",
    "            intersection=self.neighbours[u]&self.neighbours[v]\n",
    "            for c in intersection:\n",
    "                self.tau+=1\n",
    "                self.tauV[c]+=1\n",
    "                self.tauV[u]+=1\n",
    "                self.tauV[v]+=1\n",
    "        elif opeartion==\"-\":\n",
    "            self.neighbours[u].discard(v)\n",
    "            self.neighbours[v].discard(u)\n",
    "            if len(self.neighbours[u])==0:\n",
    "                del self.neighbours[u]\n",
    "                return\n",
    "            if len(self.neighbours[v])==0:\n",
    "                del self.neighbours[v]\n",
    "                return\n",
    "            intersection=self.neighbours[u]&self.neighbours[v]\n",
    "            for c in intersection:\n",
    "                self.tau=max(0,self.tau-1)\n",
    "                self.tauV[c]=max(0,self.tauV[c]-1)\n",
    "                self.tauV[u]=max(0,self.tauV[u]-1)\n",
    "                self.tauV[v]=max(0,self.tauV[v]-1) \n",
    "\n"
   ]
  },
  {
   "cell_type": "code",
   "execution_count": 135,
   "metadata": {},
   "outputs": [
    {
     "name": "stdout",
     "output_type": "stream",
     "text": [
      "[500, 500, 500, 500, 500, 500, 500, 500, 500, 500, 1000, 1000, 1000, 1000, 1000, 1000, 1000, 1000, 1000, 1000, 2000, 2000, 2000, 2000, 2000, 2000, 2000, 2000, 2000, 2000, 5000, 5000, 5000, 5000, 5000, 5000, 5000, 5000, 5000, 5000, 10000, 10000, 10000, 10000, 10000, 10000, 10000, 10000, 10000, 10000]\n"
     ]
    },
    {
     "name": "stderr",
     "output_type": "stream",
     "text": [
      "100%|██████████| 10/10 [00:26<00:00,  2.68s/it]\n",
      "100%|██████████| 10/10 [00:28<00:00,  2.82s/it]\n",
      "100%|██████████| 10/10 [00:32<00:00,  3.29s/it]\n",
      "100%|██████████| 10/10 [00:58<00:00,  5.81s/it]\n",
      "100%|██████████| 10/10 [02:25<00:00, 14.60s/it]\n"
     ]
    },
    {
     "data": {
      "image/png": "[encoded data removed]",
      "text/plain": [
       "<Figure size 640x480 with 1 Axes>"
      ]
     },
     "metadata": {},
     "output_type": "display_data"
    }
   ],
   "source": [
    "Ms=[500,1000,2000,5000,10000]\n",
    "test=10\n",
    "X=[i for i in Ms for _ in range(test)]\n",
    "print(X)\n",
    "Y=[]\n",
    "for M in Ms:\n",
    "    for _ in tqdm.tqdm(range(test)):\n",
    "        algor=Triest_base(M=M)\n",
    "        \n",
    "        Y.append(algor.insert(data_path))\n",
    "plt.scatter(X,Y)\n",
    "plt.xlabel(\"Resororvior max sample\")\n",
    "plt.ylabel(\"Prediction of number of Triangle\")\n",
    "plt.show()\n"
   ]
  },
  {
   "cell_type": "code",
   "execution_count": 118,
   "metadata": {},
   "outputs": [],
   "source": [
    "class TRIEST_IMPR:\n",
    "    def __init__(self,M):\n",
    "        self.length=M\n",
    "        self.sample=list()\n",
    "        self.t=-1\n",
    "        self.tau=0\n",
    "        self.tauV=defaultdict(int)\n",
    "        self.neighbours=defaultdict(set)\n",
    "    \n",
    "    def insert(self,filename):\n",
    "        with open(filename, 'r') as file:\n",
    "        # Skip the header lines\n",
    "            for _ in range(4):\n",
    "                next(file)\n",
    "            \n",
    "            for line in file:\n",
    "                if line.strip():\n",
    "                    self.t+=1\n",
    "                    edges=line.strip().split()\n",
    "                    edge=frozenset({int(edges[0]),int(edges[1])})\n",
    "                    self.UpdateCounter(list(edge))\n",
    "                    if self.sample_edge(edge,self.t):\n",
    "                        self.sample.append(edge)\n",
    "                    \n",
    "    \n",
    "    def sample_edge(self,edge:set,t):\n",
    "        if self.t<=self.length:\n",
    "            return True\n",
    "        elif random.random()<=self.length/t:\n",
    "            edge=random.choice(self.sample)\n",
    "            self.sample.remove(edge)\n",
    "            return True\n",
    "        return False\n",
    "    \n",
    "    def UpdateCounter(self,edge):\n",
    "        u=edge[0]\n",
    "        v=edge[1]\n",
    "        self.neighbours[u].add(v)\n",
    "        self.neighbours[v].add(u)\n",
    "        intersection=self.neighbours[u]&self.neighbours[v]\n",
    "        eta=max(1,(self.t-1)*(self.t-2)/(self.length*(self.length-1)))\n",
    "        for c in intersection:\n",
    "            self.tau+=eta\n",
    "            self.tauV[c]+=eta\n",
    "            self.tauV[u]+=eta\n",
    "            self.tauV[v]+=eta\n"
   ]
  },
  {
   "cell_type": "code",
   "execution_count": 120,
   "metadata": {},
   "outputs": [
    {
     "name": "stdout",
     "output_type": "stream",
     "text": [
      "[1000, 1000, 1000, 1000, 1000, 1000, 1000, 1000, 1000, 1000, 2000, 2000, 2000, 2000, 2000, 2000, 2000, 2000, 2000, 2000, 5000, 5000, 5000, 5000, 5000, 5000, 5000, 5000, 5000, 5000, 10000, 10000, 10000, 10000, 10000, 10000, 10000, 10000, 10000, 10000]\n"
     ]
    },
    {
     "name": "stderr",
     "output_type": "stream",
     "text": [
      " 10%|█         | 1/10 [00:21<03:11, 21.24s/it]\n"
     ]
    },
    {
     "ename": "KeyboardInterrupt",
     "evalue": "",
     "output_type": "error",
     "traceback": [
      "\u001b[1;31m---------------------------------------------------------------------------\u001b[0m",
      "\u001b[1;31mKeyboardInterrupt\u001b[0m                         Traceback (most recent call last)",
      "\u001b[1;32md:\\Study\\KTH\\DM\\assignment\\Datamining_HW3\\src\\lab3.ipynb Cell 16\u001b[0m line \u001b[0;36m8\n\u001b[0;32m      <a href='vscode-notebook-cell:/d%3A/Study/KTH/DM/assignment/Datamining_HW3/src/lab3.ipynb#X22sZmlsZQ%3D%3D?line=5'>6</a>\u001b[0m     \u001b[39mfor\u001b[39;00m _ \u001b[39min\u001b[39;00m tqdm\u001b[39m.\u001b[39mtqdm(\u001b[39mrange\u001b[39m(\u001b[39m10\u001b[39m)):\n\u001b[0;32m      <a href='vscode-notebook-cell:/d%3A/Study/KTH/DM/assignment/Datamining_HW3/src/lab3.ipynb#X22sZmlsZQ%3D%3D?line=6'>7</a>\u001b[0m         algor\u001b[39m=\u001b[39mTRIEST_IMPR(M\u001b[39m=\u001b[39mM)\n\u001b[1;32m----> <a href='vscode-notebook-cell:/d%3A/Study/KTH/DM/assignment/Datamining_HW3/src/lab3.ipynb#X22sZmlsZQ%3D%3D?line=7'>8</a>\u001b[0m         algor\u001b[39m.\u001b[39;49minsert(data_path)\n\u001b[0;32m      <a href='vscode-notebook-cell:/d%3A/Study/KTH/DM/assignment/Datamining_HW3/src/lab3.ipynb#X22sZmlsZQ%3D%3D?line=8'>9</a>\u001b[0m         Y\u001b[39m.\u001b[39mappend(algor\u001b[39m.\u001b[39mtau)\n\u001b[0;32m     <a href='vscode-notebook-cell:/d%3A/Study/KTH/DM/assignment/Datamining_HW3/src/lab3.ipynb#X22sZmlsZQ%3D%3D?line=9'>10</a>\u001b[0m plt\u001b[39m.\u001b[39mscatter(X,Y)\n",
      "\u001b[1;32md:\\Study\\KTH\\DM\\assignment\\Datamining_HW3\\src\\lab3.ipynb Cell 16\u001b[0m line \u001b[0;36m1\n\u001b[0;32m     <a href='vscode-notebook-cell:/d%3A/Study/KTH/DM/assignment/Datamining_HW3/src/lab3.ipynb#X22sZmlsZQ%3D%3D?line=12'>13</a>\u001b[0m \u001b[39mfor\u001b[39;00m _ \u001b[39min\u001b[39;00m \u001b[39mrange\u001b[39m(\u001b[39m4\u001b[39m):\n\u001b[0;32m     <a href='vscode-notebook-cell:/d%3A/Study/KTH/DM/assignment/Datamining_HW3/src/lab3.ipynb#X22sZmlsZQ%3D%3D?line=13'>14</a>\u001b[0m     \u001b[39mnext\u001b[39m(file)\n\u001b[1;32m---> <a href='vscode-notebook-cell:/d%3A/Study/KTH/DM/assignment/Datamining_HW3/src/lab3.ipynb#X22sZmlsZQ%3D%3D?line=15'>16</a>\u001b[0m \u001b[39mfor\u001b[39;00m line \u001b[39min\u001b[39;00m file:\n\u001b[0;32m     <a href='vscode-notebook-cell:/d%3A/Study/KTH/DM/assignment/Datamining_HW3/src/lab3.ipynb#X22sZmlsZQ%3D%3D?line=16'>17</a>\u001b[0m     \u001b[39mif\u001b[39;00m line\u001b[39m.\u001b[39mstrip():\n\u001b[0;32m     <a href='vscode-notebook-cell:/d%3A/Study/KTH/DM/assignment/Datamining_HW3/src/lab3.ipynb#X22sZmlsZQ%3D%3D?line=17'>18</a>\u001b[0m         \u001b[39mself\u001b[39m\u001b[39m.\u001b[39mt\u001b[39m+\u001b[39m\u001b[39m=\u001b[39m\u001b[39m1\u001b[39m\n",
      "File \u001b[1;32md:\\anaconda3\\envs\\DM\\lib\\codecs.py:319\u001b[0m, in \u001b[0;36mBufferedIncrementalDecoder.decode\u001b[1;34m(self, input, final)\u001b[0m\n\u001b[0;32m    314\u001b[0m \u001b[39mdef\u001b[39;00m \u001b[39m_buffer_decode\u001b[39m(\u001b[39mself\u001b[39m, \u001b[39minput\u001b[39m, errors, final):\n\u001b[0;32m    315\u001b[0m     \u001b[39m# Overwrite this method in subclasses: It must decode input\u001b[39;00m\n\u001b[0;32m    316\u001b[0m     \u001b[39m# and return an (output, length consumed) tuple\u001b[39;00m\n\u001b[0;32m    317\u001b[0m     \u001b[39mraise\u001b[39;00m \u001b[39mNotImplementedError\u001b[39;00m\n\u001b[1;32m--> 319\u001b[0m \u001b[39mdef\u001b[39;00m \u001b[39mdecode\u001b[39m(\u001b[39mself\u001b[39m, \u001b[39minput\u001b[39m, final\u001b[39m=\u001b[39m\u001b[39mFalse\u001b[39;00m):\n\u001b[0;32m    320\u001b[0m     \u001b[39m# decode input (taking the buffer into account)\u001b[39;00m\n\u001b[0;32m    321\u001b[0m     data \u001b[39m=\u001b[39m \u001b[39mself\u001b[39m\u001b[39m.\u001b[39mbuffer \u001b[39m+\u001b[39m \u001b[39minput\u001b[39m\n\u001b[0;32m    322\u001b[0m     (result, consumed) \u001b[39m=\u001b[39m \u001b[39mself\u001b[39m\u001b[39m.\u001b[39m_buffer_decode(data, \u001b[39mself\u001b[39m\u001b[39m.\u001b[39merrors, final)\n",
      "\u001b[1;31mKeyboardInterrupt\u001b[0m: "
     ]
    }
   ],
   "source": [
    "Ms=[1000,2000,5000,10000]\n",
    "X=[1000]*10+[2000]*10+[5000]*10+[10000]*10\n",
    "print(X)\n",
    "Y=[]\n",
    "for M in Ms:\n",
    "    for _ in tqdm.tqdm(range(10)):\n",
    "        algor=TRIEST_IMPR(M=M)\n",
    "        algor.insert(data_path)\n",
    "        Y.append(algor.tau)\n",
    "plt.scatter(X,Y)\n",
    "plt.xlabel(\"Resororvior max sample\")\n",
    "plt.ylabel(\"Prediction of number of Triangle\")\n",
    "plt.show()"
   ]
  }
 ],
 "metadata": {
  "kernelspec": {
   "display_name": "Python 3",
   "language": "python",
   "name": "python3"
  },
  "language_info": {
   "codemirror_mode": {
    "name": "ipython",
    "version": 3
   },
   "file_extension": ".py",
   "mimetype": "text/x-python",
   "name": "python",
   "nbconvert_exporter": "python",
   "pygments_lexer": "ipython3",
   "version": "3.9.0"
  }
 },
 "nbformat": 4,
 "nbformat_minor": 2
}
