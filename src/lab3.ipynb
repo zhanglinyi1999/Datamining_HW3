{
 "cells": [
  {
   "cell_type": "code",
   "execution_count": 248,
   "metadata": {},
   "outputs": [],
   "source": [
    "import numpy as np\n",
    "import seaborn as sns\n",
    "import matplotlib.pyplot as plt\n",
    "import os\n",
    "import random\n",
    "import tqdm"
   ]
  },
  {
   "cell_type": "code",
   "execution_count": 249,
   "metadata": {},
   "outputs": [
    {
     "data": {
      "text/plain": [
       "'d:\\\\Study\\\\KTH\\\\DM\\\\assignment\\\\Datamining_HW3\\\\data\\\\facebook_combined.txt\\\\facebook_combined.txt'"
      ]
     },
     "execution_count": 249,
     "metadata": {},
     "output_type": "execute_result"
    }
   ],
   "source": [
    "path = os.path.dirname(os.getcwd())\n",
    "# data_path = os.path.join(path, 'data','web-Stanford.txt', 'web-Stanford.txt')\n",
    "# data_path = os.path.join(path, 'data','web-NotreDame.txt', 'web-NotreDame.txt')\n",
    "data_path = os.path.join(path, 'data','facebook_combined.txt', 'facebook_combined.txt')\n",
    "data_path"
   ]
  },
  {
   "cell_type": "markdown",
   "metadata": {},
   "source": [
    "web-NotreDame.txt\n",
    "\n",
    "Nodes\t325729\n",
    "\n",
    "Edges\t1497134\n",
    "\n",
    "Number of triangles\t8910005"
   ]
  },
  {
   "cell_type": "code",
   "execution_count": 250,
   "metadata": {},
   "outputs": [],
   "source": [
    "class edge_reservoir:\n",
    "    def __init__(self,s_e):\n",
    "        self.length=s_e\n",
    "        self.mem=[set() for _ in range(self.length)]\n",
    "    \n",
    "    def add(self,edge,t,i):\n",
    "        if random.random()<=1/t:\n",
    "            self.mem[i]=edge\n",
    "            return True\n",
    "        return False\n",
    "    "
   ]
  },
  {
   "cell_type": "code",
   "execution_count": 251,
   "metadata": {},
   "outputs": [],
   "source": [
    "class wedge_reservoir:\n",
    "    def __init__(self,s_w):\n",
    "        self.length=s_w\n",
    "        self.mem=[[frozenset(),frozenset()] for _ in range(self.length)]\n",
    "        self.isClosed=[False for _ in range(self.length)]\n",
    "    "
   ]
  },
  {
   "cell_type": "code",
   "execution_count": 252,
   "metadata": {},
   "outputs": [],
   "source": [
    "def check_close(wedge:[frozenset,frozenset],edge:set):\n",
    "\n",
    "    same=wedge[0]|wedge[1]\n",
    "    return same!=None and (wedge[0]-set(same)).issubset(edge) and (wedge[1]-set(same)).issubset(edge)"
   ]
  },
  {
   "cell_type": "code",
   "execution_count": 253,
   "metadata": {},
   "outputs": [],
   "source": [
    "tot_wedge=0"
   ]
  },
  {
   "cell_type": "code",
   "execution_count": 254,
   "metadata": {},
   "outputs": [],
   "source": [
    "def update(edge,t,edge_res:edge_reservoir,wedge_res:wedge_reservoir):\n",
    "    global tot_wedge\n",
    "    for i in range(wedge_res.length):\n",
    "        if check_close(wedge_res.mem[i],edge):\n",
    "            wedge_res.isClosed[i]=True\n",
    "    flag=False\n",
    "    for i in range(min(edge_res.length,t)):\n",
    "        if edge_res.add(edge,t,i):\n",
    "            flag=True\n",
    "    if flag:\n",
    "        N_t=[]\n",
    "        for ed in edge_res.mem:\n",
    "            # print(ed,edge)\n",
    "            if len(ed|edge)==1:\n",
    "                tot_wedge+=1\n",
    "                N_t.append([frozenset(ed),frozenset(edge)])\n",
    "        for i in range(wedge_res.length):\n",
    "            x=np.random.rand()\n",
    "            if x<=len(N_t)/(tot_wedge+1e-8):\n",
    "                w=random.choice(N_t)\n",
    "                wedge_res.mem[i]=w\n",
    "                wedge_res.isClosed[i]=False\n",
    "    "
   ]
  },
  {
   "cell_type": "code",
   "execution_count": 255,
   "metadata": {},
   "outputs": [],
   "source": [
    "def Streaming_triangles(filename,s_e,s_w):\n",
    "    global tot_wedge\n",
    "    edge_res=edge_reservoir(s_e)\n",
    "    wedge_res=wedge_reservoir(s_w)\n",
    "    T_t=[]\n",
    "    with open(filename, 'r') as file:\n",
    "        # Skip the header lines\n",
    "        for _ in range(4):\n",
    "            next(file)\n",
    "        line_num=0\n",
    "        \n",
    "        for line in tqdm.tqdm(file):           \n",
    "            if line.strip():\n",
    "                line_num+=1\n",
    "                edges=line.strip().split()\n",
    "                edge={int(edges[0]),int(edges[1])}\n",
    "                update(edge,line_num,edge_res,wedge_res)\n",
    "                rol=sum(wedge_res.isClosed)/len(wedge_res.isClosed)\n",
    "                T_t.append(rol*line_num**2/(s_e*(s_e-1))*tot_wedge)\n",
    "                if tot_wedge!=0:\n",
    "                    print(tot_wedge)\n",
    "    plt.plot(T_t)\n",
    "\n",
    "\n"
   ]
  },
  {
   "cell_type": "code",
   "execution_count": 256,
   "metadata": {},
   "outputs": [],
   "source": [
    "# Streaming_triangles(data_path,1000,1000)"
   ]
  },
  {
   "cell_type": "code",
   "execution_count": 257,
   "metadata": {},
   "outputs": [],
   "source": [
    "def reservoir_sampling(filename, sample_size):\n",
    "    reservoir = []\n",
    "    with open(filename, 'r') as file:\n",
    "        # Skip the header lines\n",
    "        for _ in range(4):\n",
    "            next(file)\n",
    "        \n",
    "        line_number = 0\n",
    "        for line in file:\n",
    "            line_number += 1\n",
    "            if line.strip():  # Check if the line is not empty\n",
    "                if len(reservoir) < sample_size:\n",
    "                    reservoir.append(line.strip())\n",
    "                else:\n",
    "                    # Generate a random index from 0 to line_number (inclusive)\n",
    "                    random_index = random.randint(0, line_number)\n",
    "                    if random_index < sample_size:\n",
    "                        reservoir[random_index] = line.strip()\n",
    "    \n",
    "    return reservoir\n",
    "\n"
   ]
  },
  {
   "cell_type": "code",
   "execution_count": 258,
   "metadata": {},
   "outputs": [
    {
     "name": "stdout",
     "output_type": "stream",
     "text": [
      "Sampled edges:\n",
      "2347 2462\n",
      "1949 2181\n",
      "1185 1668\n",
      "2226 2610\n",
      "2124 2559\n",
      "2309 2507\n",
      "479 512\n",
      "2203 2355\n",
      "1132 1380\n",
      "2793 3038\n"
     ]
    }
   ],
   "source": [
    "filename = data_path\n",
    "sample_size = 10  # Set your desired sample size here\n",
    "sample = reservoir_sampling(filename, sample_size)\n",
    "\n",
    "# Print the sampled edges\n",
    "print(\"Sampled edges:\")\n",
    "for edge in sample:\n",
    "    print(edge)\n"
   ]
  },
  {
   "cell_type": "code",
   "execution_count": 259,
   "metadata": {},
   "outputs": [],
   "source": [
    "from collections import defaultdict\n",
    "from scipy.stats import bernoulli\n",
    "from functools import reduce\n",
    "\n"
   ]
  },
  {
   "cell_type": "code",
   "execution_count": 260,
   "metadata": {},
   "outputs": [],
   "source": [
    "class Triest_base:\n",
    "    def __init__(self,M):\n",
    "        assert M>=6\n",
    "        self.length=M\n",
    "        self.sample=[]\n",
    "        # self.sample: set[frozenset[int]] = set()\n",
    "        self.t=0\n",
    "        self.tau=0\n",
    "        self.tauV=defaultdict(int)\n",
    "        self.neighbours=defaultdict(set)\n",
    "    \n",
    "    def insert(self,filename):\n",
    "        with open(filename, 'r') as file:\n",
    "        # Skip the header lines\n",
    "            # for _ in range(4):\n",
    "            #     next(file)\n",
    "            \n",
    "            for line in file:\n",
    "                # if line.strip():\n",
    "                    self.t+=1\n",
    "                    edges=line.split()\n",
    "                    if edges[0]==edges[1]:\n",
    "                        continue\n",
    "                    edge=frozenset({int(edges[0]),int(edges[1])})\n",
    "                    if self.sample_edge(edge):\n",
    "                        self.sample.append(edge)\n",
    "                        # self.sample.add(edge)\n",
    "                        self.UpdateCounter(list(edge),\"+\")\n",
    "        return self.tau * max(1.0 , self.t*(self.t-1)*(self.t-2)/(self.length*(self.length-1)*(self.length-2)))\n",
    "\n",
    "                    \n",
    "    \n",
    "    def sample_edge(self,edge:set):\n",
    "        \"\"\"\n",
    "        This function decide whether to add the edge in the samples or not.\n",
    "        If the memory is not full, then we add it for sure. Otherwise we have\n",
    "        a probability of length/t to add it.\n",
    "        :param edge:{u,v} The edge which to be judged\n",
    "        :return: Boolean: Whether the edge should be added \n",
    "        \"\"\"\n",
    "        if self.t<=self.length:\n",
    "            return True\n",
    "        elif random.random()<=self.length/self.t:\n",
    "        # elif  bernoulli.rvs(p=self.length / self.t):\n",
    "            edge=random.choice(self.sample)\n",
    "            # edge=random.choice(list(self.sample))\n",
    "            self.sample.remove(edge)\n",
    "            self.UpdateCounter(list(edge),\"-\")\n",
    "            return True\n",
    "        return False\n",
    "    \n",
    "    def UpdateCounter(self,edge,opeartion):\n",
    "        \"\"\"\n",
    "        This function modified the total & local triangle numbers as well as the neighbours\n",
    "        of each vertex if an edge is being added or removed from the sample.\n",
    "        :param edge:{u,v} The edge being modified\n",
    "        :opeartion: String Added or removed the edge \n",
    "        \"\"\"\n",
    "        u=edge[0]\n",
    "        v=edge[1]\n",
    "        # intersection: set[int] = reduce(\n",
    "        #     lambda a, b: a & b,\n",
    "        #     [\n",
    "        #         {\n",
    "        #             node\n",
    "        #             for link in self.sample if vertex in link\n",
    "        #             for node in link if node != vertex\n",
    "        #         }\n",
    "        #         for vertex in edge\n",
    "        #     ]\n",
    "        # )\n",
    "        # print(\"intersection\",list(intersection))\n",
    "        if opeartion==\"+\":\n",
    "            self.neighbours[u].add(v)\n",
    "            self.neighbours[v].add(u)\n",
    "            intersection=self.neighbours[u]&self.neighbours[v]\n",
    "\n",
    "            # print(\"intersection\",intersection)\n",
    "            for c in intersection:\n",
    "                self.tau+=1\n",
    "                self.tauV[c]+=1\n",
    "                self.tauV[u]+=1\n",
    "                self.tauV[v]+=1\n",
    "\n",
    "                # for node in edge:\n",
    "                #     self.tauV[node] = self.tauV[node] + 1 \n",
    "        elif opeartion==\"-\":\n",
    "            self.neighbours[u].discard(v)\n",
    "            self.neighbours[v].discard(u)\n",
    "            if len(self.neighbours[u])==0:\n",
    "                del self.neighbours[u]\n",
    "                return\n",
    "            if len(self.neighbours[v])==0:\n",
    "                del self.neighbours[v]\n",
    "                return\n",
    "            intersection=self.neighbours[u]&self.neighbours[v]\n",
    "\n",
    "\n",
    "            # for c in intersection:\n",
    "            #     self.tau=max(0,self.tau-1)\n",
    "            #     self.tauV[c]=max(0,self.tauV[c]-1)\n",
    "            #     self.tauV[u]=max(0,self.tauV[u]-1)\n",
    "            #     self.tauV[v]=max(0,self.tauV[v]-1) \n",
    "\n",
    "            for c in intersection:\n",
    "                self.tau-=1\n",
    "                self.tauV[c]-=1\n",
    "                self.tauV[u]-=1\n",
    "                self.tauV[v]-=1\n",
    "                # for node in edge:\n",
    "                #     self.tauV[node] = self.tauV[node] - 1 \n",
    "\n"
   ]
  },
  {
   "cell_type": "code",
   "execution_count": 261,
   "metadata": {},
   "outputs": [
    {
     "name": "stdout",
     "output_type": "stream",
     "text": [
      "[1000, 1000, 1000, 1000, 1000, 1000, 1000, 1000, 1000, 1000, 2000, 2000, 2000, 2000, 2000, 2000, 2000, 2000, 2000, 2000, 5000, 5000, 5000, 5000, 5000, 5000, 5000, 5000, 5000, 5000, 10000, 10000, 10000, 10000, 10000, 10000, 10000, 10000, 10000, 10000]\n"
     ]
    },
    {
     "name": "stderr",
     "output_type": "stream",
     "text": [
      "100%|██████████| 10/10 [00:02<00:00,  4.37it/s]\n",
      "100%|██████████| 10/10 [00:03<00:00,  2.56it/s]\n",
      "100%|██████████| 10/10 [00:14<00:00,  1.41s/it]\n",
      "100%|██████████| 10/10 [00:41<00:00,  4.11s/it]\n"
     ]
    },
    {
     "data": {
      "image/png": "[encoded data removed]",
      "text/plain": [
       "<Figure size 640x480 with 1 Axes>"
      ]
     },
     "metadata": {},
     "output_type": "display_data"
    }
   ],
   "source": [
    "Ms=[1000,2000,5000,10000]\n",
    "# Ms=[500]\n",
    "test=10\n",
    "X=[i for i in Ms for _ in range(test)]\n",
    "print(X)\n",
    "Y=[]\n",
    "for M in Ms:\n",
    "    for _ in tqdm.tqdm(range(test)):\n",
    "        algor=Triest_base(M=M)\n",
    "        \n",
    "        Y.append(algor.insert(data_path))\n",
    "plt.scatter(X,Y)\n",
    "plt.xlabel(\"Resororvior max sample\")\n",
    "plt.ylabel(\"Prediction of number of Triangle\")\n",
    "plt.plot([Ms[0], Ms[-1]], [1612010, 1612010])\n",
    "plt.show()\n"
   ]
  },
  {
   "cell_type": "code",
   "execution_count": 262,
   "metadata": {},
   "outputs": [
    {
     "name": "stdout",
     "output_type": "stream",
     "text": [
      "X= 1000 Y= 1377929.8353606192\n",
      "X= 1000 Y= 2755859.6707212385\n",
      "X= 1000 Y= 1377929.8353606192\n",
      "X= 1000 Y= 1377929.8353606192\n",
      "X= 1000 Y= 688964.9176803096\n",
      "X= 1000 Y= 1377929.8353606192\n",
      "X= 1000 Y= 688964.9176803096\n",
      "X= 1000 Y= 2066894.7530409289\n",
      "X= 1000 Y= 1377929.8353606192\n",
      "X= 1000 Y= 1377929.8353606192\n",
      "X= 2000 Y= 1977801.490799628\n",
      "X= 2000 Y= 1117887.799147616\n",
      "X= 2000 Y= 1117887.799147616\n",
      "X= 2000 Y= 1805818.7524692256\n",
      "X= 2000 Y= 1375861.9066432195\n",
      "X= 2000 Y= 1031896.4299824147\n",
      "X= 2000 Y= 1805818.7524692256\n",
      "X= 2000 Y= 1461853.2758084207\n",
      "X= 2000 Y= 1891810.1216344268\n",
      "X= 2000 Y= 1891810.1216344268\n",
      "X= 5000 Y= 1726527.073074724\n",
      "X= 5000 Y= 1561572.2571758651\n",
      "X= 5000 Y= 1770515.0239810867\n",
      "X= 5000 Y= 1655046.6528518852\n",
      "X= 5000 Y= 1677040.6283050664\n",
      "X= 5000 Y= 1468097.861499845\n",
      "X= 5000 Y= 1594563.220355637\n",
      "X= 5000 Y= 1611058.7019455228\n",
      "X= 5000 Y= 1501088.8246796168\n",
      "X= 5000 Y= 1534079.7878593886\n",
      "X= 10000 Y= 1638746.6622679401\n",
      "X= 10000 Y= 1612636.6525546564\n",
      "X= 10000 Y= 1650427.456087041\n",
      "X= 10000 Y= 1607139.8084044915\n",
      "X= 10000 Y= 1648366.139530729\n",
      "X= 10000 Y= 1569349.0048721072\n",
      "X= 10000 Y= 1675850.360281554\n",
      "X= 10000 Y= 1520564.5130393927\n",
      "X= 10000 Y= 1614010.8635921977\n",
      "X= 10000 Y= 1668292.199575077\n"
     ]
    }
   ],
   "source": [
    "for i in range(len(X)):\n",
    "    print(\"X=\",X[i], \"Y=\",Y[i])\n"
   ]
  },
  {
   "cell_type": "code",
   "execution_count": 265,
   "metadata": {},
   "outputs": [],
   "source": [
    "class TRIEST_IMPR:\n",
    "    def __init__(self,M):\n",
    "        self.length=M\n",
    "        self.sample=list()\n",
    "        self.t=0\n",
    "        self.tau=0\n",
    "        self.tauV=defaultdict(int)\n",
    "        self.neighbours=defaultdict(set)\n",
    "    \n",
    "    def insert(self,filename):\n",
    "        with open(filename, 'r') as file:\n",
    "        # Skip the header lines\n",
    "            # for _ in range(4):\n",
    "            #     next(file)\n",
    "            \n",
    "            for line in file:\n",
    "                if line.strip():\n",
    "                    self.t+=1\n",
    "                    edges=line.strip().split()\n",
    "                    edge=frozenset({int(edges[0]),int(edges[1])})\n",
    "                    self.UpdateCounter(list(edge))\n",
    "                    if self.sample_edge(edge,self.t):\n",
    "                        self.sample.append(edge)\n",
    "                        self.UpdateNeighbour(list(edge),\"+\")\n",
    "                    \n",
    "    \n",
    "    def sample_edge(self,edge:set,t):\n",
    "        if self.t<=self.length:\n",
    "            return True\n",
    "        elif random.random()<=self.length/t:\n",
    "            edge=random.choice(self.sample)\n",
    "            self.sample.remove(edge)\n",
    "            self.UpdateNeighbour(list(edge),\"-\")\n",
    "            return True\n",
    "        return False\n",
    "    def UpdateNeighbour(self,edge,oper):\n",
    "        u=edge[0]\n",
    "        v=edge[1]\n",
    "        if oper==\"+\":\n",
    "            self.neighbours[u].add(v)\n",
    "            self.neighbours[v].add(u)\n",
    "        elif oper==\"-\":\n",
    "            self.neighbours[u].discard(v)\n",
    "            self.neighbours[v].discard(u)\n",
    "    def UpdateCounter(self,edge):\n",
    "        u=edge[0]\n",
    "        v=edge[1]\n",
    "        # intersection: set[int] = reduce(\n",
    "        #     lambda a, b: a & b,\n",
    "        #     [\n",
    "        #         {\n",
    "        #             node\n",
    "        #             for link in self.sample if vertex in link\n",
    "        #             for node in link if node != vertex\n",
    "        #         }\n",
    "        #         for vertex in edge\n",
    "        #     ]\n",
    "        # )\n",
    "        # self.neighbours[u].add(v)\n",
    "        # self.neighbours[v].add(u)\n",
    "        intersection=self.neighbours[u]&self.neighbours[v]\n",
    "        eta=max(1,(self.t-1)*(self.t-2)/(self.length*(self.length-1)))\n",
    "        for c in intersection:\n",
    "            self.tau+=eta\n",
    "            self.tauV[c]+=eta\n",
    "            self.tauV[u]+=eta\n",
    "            self.tauV[v]+=eta\n"
   ]
  },
  {
   "cell_type": "code",
   "execution_count": 266,
   "metadata": {},
   "outputs": [
    {
     "name": "stdout",
     "output_type": "stream",
     "text": [
      "[1000, 1000, 1000, 1000, 1000, 1000, 1000, 1000, 1000, 1000, 2000, 2000, 2000, 2000, 2000, 2000, 2000, 2000, 2000, 2000, 5000, 5000, 5000, 5000, 5000, 5000, 5000, 5000, 5000, 5000, 10000, 10000, 10000, 10000, 10000, 10000, 10000, 10000, 10000, 10000]\n"
     ]
    },
    {
     "name": "stderr",
     "output_type": "stream",
     "text": [
      "100%|██████████| 10/10 [00:02<00:00,  3.49it/s]\n",
      "100%|██████████| 10/10 [00:05<00:00,  1.97it/s]\n",
      "100%|██████████| 10/10 [00:14<00:00,  1.50s/it]\n",
      "100%|██████████| 10/10 [00:44<00:00,  4.46s/it]\n"
     ]
    },
    {
     "data": {
      "image/png": "[encoded data removed]",
      "text/plain": [
       "<Figure size 640x480 with 1 Axes>"
      ]
     },
     "metadata": {},
     "output_type": "display_data"
    }
   ],
   "source": [
    "# Ms=[500,1000,2000,5000,10000]\n",
    "Ms=[1000,2000,5000,10000]\n",
    "test=10\n",
    "X=[i for i in Ms for _ in range(test)]\n",
    "print(X)\n",
    "Y=[]\n",
    "for M in Ms:\n",
    "    for _ in tqdm.tqdm(range(10)):\n",
    "        algor=TRIEST_IMPR(M=M)\n",
    "        algor.insert(data_path)\n",
    "        Y.append(algor.tau)\n",
    "plt.scatter(X,Y)\n",
    "plt.xlabel(\"Resororvior max sample\")\n",
    "plt.ylabel(\"Prediction of number of Triangle\")\n",
    "plt.plot([Ms[0], Ms[-1]], [1612010, 1612010])\n",
    "plt.show()"
   ]
  }
 ],
 "metadata": {
  "kernelspec": {
   "display_name": "Python 3",
   "language": "python",
   "name": "python3"
  },
  "language_info": {
   "codemirror_mode": {
    "name": "ipython",
    "version": 3
   },
   "file_extension": ".py",
   "mimetype": "text/x-python",
   "name": "python",
   "nbconvert_exporter": "python",
   "pygments_lexer": "ipython3",
   "version": "3.10.7"
  }
 },
 "nbformat": 4,
 "nbformat_minor": 2
}
